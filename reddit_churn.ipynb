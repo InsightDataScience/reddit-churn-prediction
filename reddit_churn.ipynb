{
 "cells": [
  {
   "cell_type": "code",
   "execution_count": 1,
   "metadata": {
    "collapsed": true
   },
   "outputs": [],
   "source": [
    "from pyspark.sql.types import *\n",
    "from pyspark.sql import Row\n",
    "from pyspark import StorageLevel\n",
    "import datetime\n",
    "import sklearn as skl\n",
    "import sklearn.metrics as metrics\n",
    "import math\n",
    "from pyspark.mllib.regression import LabeledPoint\n",
    "from pyspark.mllib.tree import GradientBoostedTrees"
   ]
  },
  {
   "cell_type": "code",
   "execution_count": 2,
   "metadata": {
    "collapsed": false
   },
   "outputs": [],
   "source": [
    "date_schema = StructType([\n",
    "        StructField(\"archived\", BooleanType(), True),\n",
    "        StructField(\"author\", StringType(), True),\n",
    "        StructField(\"author_flair_css_class\", StringType(), True),\n",
    "        StructField(\"author_flair_text\", StringType(), True),\n",
    "        StructField(\"body\", StringType(), True),\n",
    "        StructField(\"controversiality\", LongType(), True),\n",
    "        StructField(\"created_utc\", StringType(), True),\n",
    "        StructField(\"day\", LongType(), True),\n",
    "        StructField(\"distinguished\", StringType(), True),\n",
    "        StructField(\"downs\", LongType(), True),\n",
    "        StructField(\"edited\", StringType(), True),\n",
    "        StructField(\"gilded\", LongType(), True),\n",
    "        StructField(\"id\", StringType(), True),\n",
    "        StructField(\"link_id\", StringType(), True),\n",
    "        StructField(\"month\", LongType(), True),\n",
    "        StructField(\"name\", StringType(), True),\n",
    "        StructField(\"parent_id\", StringType(), True),\n",
    "        StructField(\"removal_reason\", StringType(), True),\n",
    "        StructField(\"retrieved_on\", LongType(), True),\n",
    "        StructField(\"score\", LongType(), True),\n",
    "        StructField(\"score_hidden\", BooleanType(), True),\n",
    "        StructField(\"subreddit\", StringType(), True),\n",
    "        StructField(\"subreddit_id\", StringType(), True),\n",
    "        StructField(\"ups\", LongType(), True),\n",
    "        StructField(\"year\", LongType(), True)\n",
    "    ])\n",
    "\n",
    "# Read in all comments in the year 2007\n",
    "rawcomments = sqlContext.read.json(\"s3n://reddit-comments/2009\", date_schema)"
   ]
  },
  {
   "cell_type": "code",
   "execution_count": 3,
   "metadata": {
    "collapsed": true
   },
   "outputs": [],
   "source": [
    "def add_date_columns(row):\n",
    "    row_dict = row.asDict()\n",
    "    utc_dt = datetime.datetime.fromtimestamp(int(row_dict['created_utc']))\n",
    "    row_dict['year'] = utc_dt.year\n",
    "    row_dict['month'] = utc_dt.month\n",
    "    row_dict['day'] = utc_dt.day\n",
    "        \n",
    "    return Row(**row_dict)"
   ]
  },
  {
   "cell_type": "code",
   "execution_count": 4,
   "metadata": {
    "collapsed": false
   },
   "outputs": [],
   "source": [
    "relevant_features = [\"author\",\n",
    "                     \"controversiality\",\n",
    "                     \"created_utc\",\n",
    "                     \"distinguished\",\n",
    "                     \"downs\",\n",
    "                     \"edited\",\n",
    "                     \"gilded\",\n",
    "                     \"removal_reason\",\n",
    "                     \"score\",\n",
    "                     \"ups\"]"
   ]
  },
  {
   "cell_type": "code",
   "execution_count": 5,
   "metadata": {
    "collapsed": true
   },
   "outputs": [],
   "source": [
    "final_schema = StructType([\n",
    "        StructField(\"author\", StringType(), True),\n",
    "        StructField(\"controversiality\", LongType(), True),\n",
    "        StructField(\"created_utc\", StringType(), True),\n",
    "        StructField(\"day\", LongType(), True),\n",
    "        StructField(\"distinguished\", StringType(), True),\n",
    "        StructField(\"downs\", LongType(), True),\n",
    "        StructField(\"edited\", StringType(), True),\n",
    "        StructField(\"gilded\", LongType(), True),\n",
    "        StructField(\"month\", LongType(), True),\n",
    "        StructField(\"removal_reason\", StringType(), True),\n",
    "        StructField(\"score\", LongType(), True),\n",
    "        StructField(\"ups\", LongType(), True),\n",
    "        StructField(\"year\", LongType(), True)\n",
    "    ])"
   ]
  },
  {
   "cell_type": "code",
   "execution_count": 6,
   "metadata": {
    "collapsed": false
   },
   "outputs": [],
   "source": [
    "comments = rawcomments.select(relevant_features).map(add_date_columns).toDF(final_schema)\n",
    "comments.registerTempTable(\"comments\")"
   ]
  },
  {
   "cell_type": "code",
   "execution_count": 7,
   "metadata": {
    "collapsed": false
   },
   "outputs": [],
   "source": [
    "grouped_by_month = sqlContext.sql(\"\"\"\n",
    "    SELECT \n",
    "        author,\n",
    "        AVG(controversiality) as controversiality,\n",
    "        SUM(distinguished) as distinguished,\n",
    "        SUM(downs) as downs,\n",
    "        VARIANCE(downs) as var_downs,\n",
    "        SUM(edited) as edited,\n",
    "        SUM(gilded) as gilded,\n",
    "        AVG(score) as score,\n",
    "        VARIANCE(score) as var_score,\n",
    "        SUM(ups) as ups,\n",
    "        VARIANCE(ups) as var_ups,\n",
    "        month,\n",
    "        COUNT(*) as comment_count\n",
    "    FROM comments\n",
    "    GROUP BY author, month\n",
    "\"\"\").persist(StorageLevel.MEMORY_AND_DISK)"
   ]
  },
  {
   "cell_type": "code",
   "execution_count": 9,
   "metadata": {
    "collapsed": true
   },
   "outputs": [],
   "source": [
    "def datapoint_transform(row):\n",
    "    feature_vector = []\n",
    "    feature_vector.append(row.controversiality)\n",
    "    #feature_vector.append(row.distinguished)\n",
    "    feature_vector.append(row.downs)\n",
    "    feature_vector.append(row.var_downs)\n",
    "    #feature_vector.append(row.edited)\n",
    "    feature_vector.append(row.gilded)\n",
    "    feature_vector.append(row.score)\n",
    "    feature_vector.append(row.var_score)\n",
    "    feature_vector.append(row.ups)\n",
    "    feature_vector.append(row.var_ups)\n",
    "    feature_vector.append(row.comment_count)\n",
    "    return LabeledPoint(row.is_churned, feature_vector)"
   ]
  },
  {
   "cell_type": "code",
   "execution_count": 16,
   "metadata": {
    "collapsed": true
   },
   "outputs": [],
   "source": [
    "def build_churn_model(start_month, end_month):\n",
    "    \n",
    "    def add_target_column(row):\n",
    "        row_dict = row.asDict()\n",
    "        row_dict['is_churned'] = int(row_dict['author'] in churned)\n",
    "        return Row(**row_dict)\n",
    "\n",
    "    curr_month_data = grouped_by_month.rdd.filter(lambda x: x.month == start_month)\n",
    "    curr_month_data.persist(StorageLevel.MEMORY_AND_DISK)\n",
    "    \n",
    "    curr_month_authors = curr_month_data.map(lambda x: x.author)\n",
    "    next_month_authors = grouped_by_month.rdd.filter(lambda x: x.month == end_month).map(lambda x: x.author)\n",
    "    \n",
    "    curr_authors = set(curr_month_authors.collect())\n",
    "    next_authors = set(next_month_authors.collect())\n",
    "    \n",
    "    churned = curr_authors - next_authors\n",
    "    \n",
    "    churn_fraction = len(churned) / float(len(curr_authors))\n",
    "    \n",
    "    raw_data = curr_month_data.map(add_target_column)\n",
    "    \n",
    "    data = raw_data.map(datapoint_transform)\n",
    "    train, test = data.randomSplit([0.7, 0.3])\n",
    "    \n",
    "    train.persist(StorageLevel.MEMORY_AND_DISK)\n",
    "    \n",
    "    model = GradientBoostedTrees.trainClassifier(train, {}, numIterations=50, maxDepth=2, learningRate=.01)\n",
    "\n",
    "    train.unpersist()\n",
    "    curr_month_data.unpersist()\n",
    "    \n",
    "    return model, train, test"
   ]
  },
  {
   "cell_type": "markdown",
   "metadata": {},
   "source": [
    "### Validation"
   ]
  },
  {
   "cell_type": "code",
   "execution_count": 14,
   "metadata": {
    "collapsed": true
   },
   "outputs": [],
   "source": [
    "def separate(model, data):\n",
    "    predicted = model.predict(data.map(lambda x: x.features)).collect()\n",
    "    actual = data.map(lambda x: x.label).collect()\n",
    "    return predicted, actual\n",
    "\n",
    "def roc(model, data):\n",
    "    predicted, actual = separate(model, data)\n",
    "    return metrics.roc_auc_score(actual, predicted)\n",
    "\n",
    "def confusion(model, data):\n",
    "    predicted, actual = separate(model, data)\n",
    "    return metrics.confusion_matrix(actual, predicted)"
   ]
  },
  {
   "cell_type": "code",
   "execution_count": 17,
   "metadata": {
    "collapsed": false
   },
   "outputs": [
    {
     "name": "stdout",
     "output_type": "stream",
     "text": [
      "ROC: for training: 0.756653957471, testing: 0.741993370391\n",
      "Training confusion mx:\n",
      "[[ 0.52005684  0.11746275]\n",
      " [ 0.10962947  0.25285095]]\n",
      "Testing confusion mx:\n",
      "[[ 0.50138744  0.12330905]\n",
      " [ 0.1195803   0.2557232 ]]\n"
     ]
    }
   ],
   "source": [
    "model, train, test = build_churn_model(1, 2)\n",
    "print(\"ROC: for training: {}, testing: {}\".format(roc(model, train), roc(model, test)))\n",
    "print(\"Training confusion mx:\")\n",
    "print((confusion(model, train) / float(train.count())))\n",
    "print(\"Testing confusion mx:\")\n",
    "print((confusion(model, test) / float(test.count())))"
   ]
  },
  {
   "cell_type": "code",
   "execution_count": null,
   "metadata": {
    "collapsed": true
   },
   "outputs": [],
   "source": [
    "model, train, test = build_churn_model(3, 4)\n",
    "print(\"ROC: for training: {}, testing: {}\".format(roc(model, train), roc(model, test)))\n",
    "print(\"Training confusion mx:\")\n",
    "print((confusion(model, train) / float(train.count())))\n",
    "print(\"Testing confusion mx:\")\n",
    "print((confusion(model, test) / float(test.count())))"
   ]
  }
 ],
 "metadata": {
  "kernelspec": {
   "display_name": "Python 2",
   "language": "python",
   "name": "python2"
  },
  "language_info": {
   "codemirror_mode": {
    "name": "ipython",
    "version": 2
   },
   "file_extension": ".py",
   "mimetype": "text/x-python",
   "name": "python",
   "nbconvert_exporter": "python",
   "pygments_lexer": "ipython2",
   "version": "2.7.6"
  }
 },
 "nbformat": 4,
 "nbformat_minor": 0
}
